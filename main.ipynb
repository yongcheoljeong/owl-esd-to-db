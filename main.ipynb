{
 "metadata": {
  "language_info": {
   "codemirror_mode": {
    "name": "ipython",
    "version": 3
   },
   "file_extension": ".py",
   "mimetype": "text/x-python",
   "name": "python",
   "nbconvert_exporter": "python",
   "pygments_lexer": "ipython3",
   "version": "3.8.5"
  },
  "orig_nbformat": 2,
  "kernelspec": {
   "name": "python3",
   "display_name": "Python 3.8.5 64-bit ('base': conda)"
  },
  "interpreter": {
   "hash": "10bab76ca3a792500c84cf15e41f41f3b47c84305661022fd44a3b2beb095cfa"
  }
 },
 "nbformat": 4,
 "nbformat_minor": 2,
 "cells": [
  {
   "cell_type": "code",
   "execution_count": 1,
   "metadata": {},
   "outputs": [],
   "source": [
    "from EventStreamData import *\n",
    "from GUID import *\n",
    "import pandas as pd \n",
    "import numpy as np \n",
    "from pandas.io.json import json_normalize"
   ]
  },
  {
   "cell_type": "code",
   "execution_count": 2,
   "metadata": {},
   "outputs": [],
   "source": [
    "root_dir = r'D:\\2021_EventStreamData\\20210809'\n",
    "if_exists = 'append'"
   ]
  },
  {
   "cell_type": "code",
   "execution_count": 3,
   "metadata": {},
   "outputs": [
    {
     "output_type": "stream",
     "name": "stdout",
     "text": [
      "Data exported: match_37346\n",
      "Data exported: match_37345\n",
      "Data exported: match_37366\n",
      "Data exported: match_37365\n",
      "Data exported: match_37364\n",
      "Data exported: match_37344\n",
      "Data exported: match_37343\n",
      "Data exported: match_37342\n",
      "Data exported: match_37363\n",
      "Data exported: match_37362\n",
      "Data exported: match_37361\n",
      "Data exported: match_37341\n",
      "Data exported: match_37340\n",
      "Data exported: match_37339\n"
     ]
    }
   ],
   "source": [
    "# GameInfo\n",
    "gameinfo = GameInfo() \n",
    "gameinfo.set_directory(root_dir=root_dir)\n",
    "gameinfo.export_to_db(if_exists=if_exists)"
   ]
  },
  {
   "cell_type": "code",
   "execution_count": 4,
   "metadata": {},
   "outputs": [
    {
     "output_type": "stream",
     "name": "stdout",
     "text": [
      "Data exported: match_37346\n",
      "Data exported: match_37345\n",
      "Data exported: match_37366\n",
      "Data exported: match_37365\n",
      "Data exported: match_37364\n",
      "Data exported: match_37344\n",
      "Data exported: match_37343\n",
      "Data exported: match_37342\n",
      "Data exported: match_37363\n",
      "Data exported: match_37362\n",
      "Data exported: match_37361\n",
      "Data exported: match_37341\n",
      "Data exported: match_37340\n",
      "Data exported: match_37339\n"
     ]
    }
   ],
   "source": [
    "# RoundStart \n",
    "roundstart = RoundStart()\n",
    "roundstart.set_directory(root_dir=root_dir)\n",
    "roundstart.export_to_db(if_exists=if_exists)"
   ]
  },
  {
   "cell_type": "code",
   "execution_count": 5,
   "metadata": {},
   "outputs": [
    {
     "output_type": "stream",
     "name": "stdout",
     "text": [
      "Data exported: match_37346\n",
      "Data exported: match_37345\n",
      "Data exported: match_37366\n",
      "Data exported: match_37365\n",
      "Data exported: match_37364\n",
      "Data exported: match_37344\n",
      "Data exported: match_37343\n",
      "Data exported: match_37342\n",
      "Data exported: match_37363\n",
      "Data exported: match_37362\n",
      "Data exported: match_37361\n",
      "Data exported: match_37341\n",
      "Data exported: match_37340\n",
      "Data exported: match_37339\n"
     ]
    }
   ],
   "source": [
    "# GameResult\n",
    "gameresult = GameResult() \n",
    "gameresult.set_directory(root_dir=root_dir)\n",
    "gameresult.export_to_db(if_exists=if_exists) "
   ]
  },
  {
   "cell_type": "code",
   "execution_count": 6,
   "metadata": {},
   "outputs": [
    {
     "output_type": "stream",
     "name": "stdout",
     "text": [
      "Data exported: match_37346\n",
      "Data exported: match_37345\n",
      "Data exported: match_37366\n",
      "Data exported: match_37365\n",
      "Data exported: match_37364\n",
      "Data exported: match_37344\n",
      "Data exported: match_37343\n",
      "Data exported: match_37342\n",
      "Data exported: match_37363\n",
      "Data exported: match_37362\n",
      "Data exported: match_37361\n",
      "Data exported: match_37341\n",
      "Data exported: match_37340\n",
      "Data exported: match_37339\n"
     ]
    }
   ],
   "source": [
    "# Kill\n",
    "kill = Kill() \n",
    "kill.set_directory(root_dir=root_dir)\n",
    "kill.export_to_db(if_exists=if_exists)"
   ]
  },
  {
   "cell_type": "code",
   "execution_count": 7,
   "metadata": {},
   "outputs": [
    {
     "output_type": "stream",
     "name": "stdout",
     "text": [
      "Data exported: match_37346\n",
      "Data exported: match_37345\n",
      "Data exported: match_37366\n",
      "Data exported: match_37365\n",
      "Data exported: match_37364\n",
      "Data exported: match_37344\n",
      "Data exported: match_37343\n",
      "Data exported: match_37342\n",
      "Data exported: match_37363\n",
      "Data exported: match_37362\n",
      "Data exported: match_37361\n",
      "Data exported: match_37341\n",
      "Data exported: match_37340\n",
      "Data exported: match_37339\n"
     ]
    }
   ],
   "source": [
    "# PlayerStatus\n",
    "playerstatus = PlayerStatus()\n",
    "playerstatus.set_directory(root_dir=root_dir)\n",
    "playerstatus.export_to_db(if_exists=if_exists)"
   ]
  },
  {
   "cell_type": "code",
   "execution_count": 8,
   "metadata": {},
   "outputs": [
    {
     "output_type": "stream",
     "name": "stderr",
     "text": [
      "num row: 2477it [00:00, 24722.28it/s]creating new table: match_37346\n",
      "num row: 11565it [00:00, 27948.65it/s]creating new table: match_37345\n",
      "num row: 20663it [00:00, 29322.12it/s]creating new table: match_37366\n",
      "num row: 30001it [00:01, 30089.35it/s]creating new table: match_37365\n",
      "num row: 39438it [00:01, 30040.93it/s]creating new table: match_37364\n",
      "num row: 45644it [00:01, 29937.20it/s]creating new table: match_37344\n",
      "num row: 55134it [00:01, 29915.31it/s]creating new table: match_37343\n",
      "num row: 67638it [00:02, 29748.86it/s]creating new table: match_37342\n",
      "num row: 73803it [00:02, 29692.05it/s]creating new table: match_37363\n",
      "num row: 83259it [00:02, 30058.71it/s]creating new table: match_37362\n",
      "num row: 92692it [00:03, 30102.68it/s]creating new table: match_37361\n",
      "num row: 95720it [00:03, 26699.80it/s]creating new table: match_37341\n",
      "num row: 105122it [00:03, 25950.71it/s]creating new table: match_37340\n",
      "num row: 117683it [00:03, 29354.02it/s]creating new table: match_37339\n",
      "num row: 86948108it [1:16:55, 18837.35it/s]\n",
      "Time taken: 4637.190671682358s\n"
     ]
    }
   ],
   "source": [
    "# PlayerHeroStats\n",
    "playerherostats = PlayerHeroStats()\n",
    "playerherostats.set_directory(root_dir=root_dir)\n",
    "playerherostats.read_and_dump_data()"
   ]
  }
 ]
}